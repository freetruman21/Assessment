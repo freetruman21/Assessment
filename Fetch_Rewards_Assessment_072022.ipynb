{
 "cells": [
  {
   "cell_type": "code",
   "execution_count": 1,
   "id": "68c00dec",
   "metadata": {},
   "outputs": [],
   "source": [
    "import pandas as pd\n",
    "\n",
    "import json\n",
    "from pandas import json_normalize \n",
    "from ast import literal_eval\n"
   ]
  },
  {
   "cell_type": "code",
   "execution_count": 2,
   "id": "8955ec21",
   "metadata": {},
   "outputs": [],
   "source": [
    "# Load the users, receipts, and brands json data \n",
    "users = [json.loads(line) for line in open('users.json','r')]\n",
    "receipts = [json.loads(line) for line in open('receipts.json','r')]\n",
    "brands = [json.loads(line) for line in open('brands.json','r')]"
   ]
  },
  {
   "cell_type": "code",
   "execution_count": 3,
   "id": "0373eca5",
   "metadata": {},
   "outputs": [],
   "source": [
    "# Normalizefrom json data to a table \n",
    "df_users = json_normalize(users)\n",
    "df_receipts = json_normalize(receipts)\n",
    "df_brands = json_normalize(brands)"
   ]
  },
  {
   "cell_type": "code",
   "execution_count": 4,
   "id": "0304f068",
   "metadata": {},
   "outputs": [],
   "source": [
    "# rename the dataset\n",
    "df_users = df_users.rename(columns={'_id.$oid':'id' , 'createdDate.$date': 'CreatedDate',\n",
    "                                    'lastLogin.$date' :'lastLogin'})\n",
    "df_receipts = df_receipts.rename(columns={'_id.$oid':'id' , 'createDate.$date': 'CreatedDate',\n",
    "                                    'dateScanned.$date' :'dateScanned','finishedDate.$date' :'finishedDate',\n",
    "                                         'modifyDate.$date' :'modifyDate','pointsAwardedDate.$date' :'pointsAwardedDate',\n",
    "                                         'purchaseDate.$date' :'purchaseDate'})\n",
    "df_brands = df_brands.rename(columns={'_id.$oid':'id' , 'cpg.$id.$oid': 'CPG_id','cpg.$ref': 'CPG_ref'})\n"
   ]
  },
  {
   "cell_type": "code",
   "execution_count": 5,
   "id": "3cc9453a",
   "metadata": {},
   "outputs": [],
   "source": [
    "# convert each element of the column,'rewardsReceiptItemList', into a row.\n",
    "df_receipts = df_receipts.explode('rewardsReceiptItemList')\n",
    "df_receipts.reset_index(inplace=True)\n"
   ]
  },
  {
   "cell_type": "code",
   "execution_count": 6,
   "id": "84f2839d",
   "metadata": {},
   "outputs": [],
   "source": [
    "df_receipts = df_receipts.fillna({'rewardsReceiptItemList':'{}'})\n"
   ]
  },
  {
   "cell_type": "code",
   "execution_count": 7,
   "id": "389e3c27",
   "metadata": {},
   "outputs": [],
   "source": [
    "df_receipts['rewardsReceiptItemList'] = df_receipts['rewardsReceiptItemList'].apply(lambda x:str(x))"
   ]
  },
  {
   "cell_type": "code",
   "execution_count": 8,
   "id": "0d6aa62b",
   "metadata": {},
   "outputs": [],
   "source": [
    "df_receipts['rewardsReceiptItemList'] = df_receipts['rewardsReceiptItemList'].apply(literal_eval)"
   ]
  },
  {
   "cell_type": "code",
   "execution_count": 9,
   "id": "c8e0635c",
   "metadata": {},
   "outputs": [],
   "source": [
    "#make a new dataset with the column of 'df_receipts'dataset', rewardsReceiptItemList \n",
    "df_ItemList = pd.json_normalize(df_receipts['rewardsReceiptItemList'],errors='ignore')"
   ]
  },
  {
   "cell_type": "code",
   "execution_count": 10,
   "id": "7ce3f10f",
   "metadata": {},
   "outputs": [],
   "source": [
    "id= df_receipts.id\n",
    "id = pd.DataFrame(id)"
   ]
  },
  {
   "cell_type": "code",
   "execution_count": 11,
   "id": "0de02c33",
   "metadata": {},
   "outputs": [],
   "source": [
    "df_ItemList_final= pd.merge(id,df_ItemList, left_index=True, right_index=True, how='outer')"
   ]
  },
  {
   "cell_type": "code",
   "execution_count": 13,
   "id": "c4006fe0",
   "metadata": {},
   "outputs": [],
   "source": [
    "#Rename the column of the new dataset\n",
    "df_receipts = df_receipts.rename(columns={'_id.$oid':'id' , 'createDate.$date': 'CreateDate','dateScanned.$date': 'dateScanned',\n",
    "                                    'finishedDate.$date' :'finishedDate' , 'modifyDate.$date' :'modifyDate',\n",
    "                                         'pointsAwardedDate.$date' :'pointsAwardedDate','purchaseDate.$date' :'purchaseDate'})"
   ]
  },
  {
   "cell_type": "code",
   "execution_count": 14,
   "id": "8f45ce86",
   "metadata": {},
   "outputs": [],
   "source": [
    "df_receipts =df_receipts.drop('rewardsReceiptItemList',axis =1)\n"
   ]
  },
  {
   "cell_type": "code",
   "execution_count": 15,
   "id": "d24be48f",
   "metadata": {
    "scrolled": true
   },
   "outputs": [],
   "source": [
    "# convert 13-digit unixtime to timestamp format\n",
    "import datetime\n",
    "df_receipts['CreatedDate'] = df_receipts['CreatedDate'].apply(lambda time : datetime.datetime.fromtimestamp(int(time)/1000))\n",
    "df_receipts['dateScanned'] =df_receipts[~df_receipts['dateScanned'].isnull()].loc[:,'dateScanned'].apply(lambda time : \n",
    "                                                                    datetime.datetime.fromtimestamp(int(time)/1000))\n",
    "df_receipts['finishedDate'] =df_receipts[~df_receipts['finishedDate'].isnull()].loc[:,'finishedDate'].apply(lambda time : \n",
    "                                                                    datetime.datetime.fromtimestamp(int(time)/1000))\n",
    "df_receipts['modifyDate'] =df_receipts[~df_receipts['modifyDate'].isnull()].loc[:,'modifyDate'].apply(lambda time : \n",
    "                                                                    datetime.datetime.fromtimestamp(int(time)/1000))\n",
    "df_receipts['pointsAwardedDate'] =df_receipts[~df_receipts['pointsAwardedDate'].isnull()].loc[:,'pointsAwardedDate'].apply(lambda time : \n",
    "                                                                    datetime.datetime.fromtimestamp(int(time)/1000))\n",
    "df_receipts['purchaseDate'] =df_receipts[~df_receipts['purchaseDate'].isnull()].loc[:,'purchaseDate'].apply(lambda time : \n",
    "                                                                    datetime.datetime.fromtimestamp(int(time)/1000))\n",
    "\n"
   ]
  },
  {
   "cell_type": "code",
   "execution_count": 33,
   "id": "1931a6a7",
   "metadata": {
    "scrolled": true
   },
   "outputs": [
    {
     "name": "stdout",
     "output_type": "stream",
     "text": [
      "<class 'pandas.core.frame.DataFrame'>\n",
      "RangeIndex: 7381 entries, 0 to 7380\n",
      "Data columns (total 15 columns):\n",
      " #   Column                   Non-Null Count  Dtype         \n",
      "---  ------                   --------------  -----         \n",
      " 0   index                    7381 non-null   int64         \n",
      " 1   bonusPointsEarned        5980 non-null   float64       \n",
      " 2   bonusPointsEarnedReason  5980 non-null   object        \n",
      " 3   pointsEarned             6253 non-null   object        \n",
      " 4   purchasedItemCount       6897 non-null   float64       \n",
      " 5   rewardsReceiptStatus     7381 non-null   object        \n",
      " 6   totalSpent               6946 non-null   object        \n",
      " 7   userId                   7381 non-null   object        \n",
      " 8   id                       7381 non-null   object        \n",
      " 9   CreatedDate              7381 non-null   datetime64[ns]\n",
      " 10  dateScanned              7381 non-null   datetime64[ns]\n",
      " 11  finishedDate             5970 non-null   datetime64[ns]\n",
      " 12  modifyDate               7381 non-null   datetime64[ns]\n",
      " 13  pointsAwardedDate        6080 non-null   datetime64[ns]\n",
      " 14  purchaseDate             6923 non-null   datetime64[ns]\n",
      "dtypes: datetime64[ns](6), float64(2), int64(1), object(6)\n",
      "memory usage: 865.1+ KB\n"
     ]
    }
   ],
   "source": [
    "\n",
    "df_receipts.info()"
   ]
  },
  {
   "cell_type": "code",
   "execution_count": 18,
   "id": "008edc6a",
   "metadata": {
    "scrolled": true
   },
   "outputs": [
    {
     "name": "stdout",
     "output_type": "stream",
     "text": [
      "<class 'pandas.core.frame.DataFrame'>\n",
      "RangeIndex: 495 entries, 0 to 494\n",
      "Data columns (total 7 columns):\n",
      " #   Column        Non-Null Count  Dtype  \n",
      "---  ------        --------------  -----  \n",
      " 0   active        495 non-null    bool   \n",
      " 1   role          495 non-null    object \n",
      " 2   signUpSource  447 non-null    object \n",
      " 3   state         439 non-null    object \n",
      " 4   id            495 non-null    object \n",
      " 5   CreatedDate   495 non-null    int64  \n",
      " 6   lastLogin     433 non-null    float64\n",
      "dtypes: bool(1), float64(1), int64(1), object(4)\n",
      "memory usage: 23.8+ KB\n"
     ]
    }
   ],
   "source": [
    "df_users.info()"
   ]
  },
  {
   "cell_type": "code",
   "execution_count": 19,
   "id": "b5a712da",
   "metadata": {},
   "outputs": [
    {
     "name": "stdout",
     "output_type": "stream",
     "text": [
      "<class 'pandas.core.frame.DataFrame'>\n",
      "RangeIndex: 1167 entries, 0 to 1166\n",
      "Data columns (total 9 columns):\n",
      " #   Column        Non-Null Count  Dtype \n",
      "---  ------        --------------  ----- \n",
      " 0   barcode       1167 non-null   object\n",
      " 1   category      1012 non-null   object\n",
      " 2   categoryCode  517 non-null    object\n",
      " 3   name          1167 non-null   object\n",
      " 4   topBrand      555 non-null    object\n",
      " 5   id            1167 non-null   object\n",
      " 6   CPG_id        1167 non-null   object\n",
      " 7   CPG_ref       1167 non-null   object\n",
      " 8   brandCode     933 non-null    object\n",
      "dtypes: object(9)\n",
      "memory usage: 82.2+ KB\n"
     ]
    }
   ],
   "source": [
    "df_brands.info()"
   ]
  },
  {
   "cell_type": "code",
   "execution_count": 20,
   "id": "a9405440",
   "metadata": {},
   "outputs": [
    {
     "name": "stdout",
     "output_type": "stream",
     "text": [
      "<class 'pandas.core.frame.DataFrame'>\n",
      "RangeIndex: 7381 entries, 0 to 7380\n",
      "Data columns (total 35 columns):\n",
      " #   Column                              Non-Null Count  Dtype  \n",
      "---  ------                              --------------  -----  \n",
      " 0   id                                  7381 non-null   object \n",
      " 1   barcode                             3090 non-null   object \n",
      " 2   description                         6560 non-null   object \n",
      " 3   finalPrice                          6767 non-null   object \n",
      " 4   itemPrice                           6767 non-null   object \n",
      " 5   needsFetchReview                    813 non-null    object \n",
      " 6   partnerItemId                       6941 non-null   object \n",
      " 7   preventTargetGapPoints              358 non-null    object \n",
      " 8   quantityPurchased                   6767 non-null   float64\n",
      " 9   userFlaggedBarcode                  337 non-null    object \n",
      " 10  userFlaggedNewItem                  323 non-null    object \n",
      " 11  userFlaggedPrice                    299 non-null    object \n",
      " 12  userFlaggedQuantity                 299 non-null    float64\n",
      " 13  needsFetchReviewReason              219 non-null    object \n",
      " 14  pointsNotAwardedReason              340 non-null    object \n",
      " 15  pointsPayerId                       1267 non-null   object \n",
      " 16  rewardsGroup                        1731 non-null   object \n",
      " 17  rewardsProductPartnerId             2269 non-null   object \n",
      " 18  userFlaggedDescription              205 non-null    object \n",
      " 19  originalMetaBriteBarcode            71 non-null     object \n",
      " 20  originalMetaBriteDescription        10 non-null     object \n",
      " 21  brandCode                           2600 non-null   object \n",
      " 22  competitorRewardsGroup              275 non-null    object \n",
      " 23  discountedItemPrice                 5769 non-null   object \n",
      " 24  originalReceiptItemText             5760 non-null   object \n",
      " 25  itemNumber                          153 non-null    object \n",
      " 26  originalMetaBriteQuantityPurchased  15 non-null     float64\n",
      " 27  pointsEarned                        927 non-null    object \n",
      " 28  targetPrice                         378 non-null    object \n",
      " 29  competitiveProduct                  645 non-null    object \n",
      " 30  originalFinalPrice                  9 non-null      object \n",
      " 31  originalMetaBriteItemPrice          9 non-null      object \n",
      " 32  deleted                             9 non-null      object \n",
      " 33  priceAfterCoupon                    956 non-null    object \n",
      " 34  metabriteCampaignId                 863 non-null    object \n",
      "dtypes: float64(3), object(32)\n",
      "memory usage: 2.0+ MB\n"
     ]
    }
   ],
   "source": [
    "df_ItemList_final.info()"
   ]
  },
  {
   "cell_type": "code",
   "execution_count": 21,
   "id": "1a956cc3",
   "metadata": {},
   "outputs": [],
   "source": [
    "# Export to csv file to do mySql work. \n",
    "df_users.to_csv('users.csv', index=False)\n",
    "df_receipts.to_csv('receipts.csv', index=False)\n",
    "df_brands.to_csv('brands.csv', index=False)\n",
    "df_ItemList_final.to_csv('Receipts_itemlist.csv', index=False)"
   ]
  },
  {
   "cell_type": "code",
   "execution_count": 29,
   "id": "c4e6058a",
   "metadata": {},
   "outputs": [
    {
     "data": {
      "text/plain": [
       "1119"
      ]
     },
     "execution_count": 29,
     "metadata": {},
     "output_type": "execute_result"
    }
   ],
   "source": [
    "len(pd.unique(df_receipts['id']))"
   ]
  },
  {
   "cell_type": "code",
   "execution_count": 30,
   "id": "6552371a",
   "metadata": {},
   "outputs": [
    {
     "data": {
      "text/plain": [
       "212"
      ]
     },
     "execution_count": 30,
     "metadata": {},
     "output_type": "execute_result"
    }
   ],
   "source": [
    "len(pd.unique(df_users['id']))"
   ]
  },
  {
   "cell_type": "code",
   "execution_count": 32,
   "id": "dc2f976f",
   "metadata": {},
   "outputs": [
    {
     "data": {
      "text/plain": [
       "1119"
      ]
     },
     "execution_count": 32,
     "metadata": {},
     "output_type": "execute_result"
    }
   ],
   "source": [
    "len(pd.unique(df_ItemList_final['id']))"
   ]
  },
  {
   "cell_type": "markdown",
   "id": "bd790f1e",
   "metadata": {},
   "source": [
    "Data Quality Check"
   ]
  },
  {
   "cell_type": "code",
   "execution_count": 34,
   "id": "5fa37912",
   "metadata": {},
   "outputs": [
    {
     "name": "stdout",
     "output_type": "stream",
     "text": [
      "signUpSource 0.09696969696969697\n",
      "state 0.11313131313131314\n",
      "lastLogin 0.12525252525252525\n"
     ]
    }
   ],
   "source": [
    "# missing value\n",
    "for a,b in df_users.isnull().mean().items():\n",
    "    if b > 0:\n",
    "        print(a, b)\n",
    "\n"
   ]
  },
  {
   "cell_type": "code",
   "execution_count": 37,
   "id": "3dba2090",
   "metadata": {},
   "outputs": [
    {
     "name": "stdout",
     "output_type": "stream",
     "text": [
      "bonusPointsEarned 0.1898116786343314\n",
      "bonusPointsEarnedReason 0.1898116786343314\n",
      "pointsEarned 0.15282482048502913\n",
      "purchasedItemCount 0.06557377049180328\n",
      "totalSpent 0.058935103644492615\n",
      "finishedDate 0.1911665086031703\n",
      "pointsAwardedDate 0.1762633789459423\n",
      "purchaseDate 0.06205121257282211\n"
     ]
    }
   ],
   "source": [
    "for a,b in df_receipts.isnull().mean().items():\n",
    "    if b > 0:\n",
    "        print(a, b)\n"
   ]
  },
  {
   "cell_type": "code",
   "execution_count": 38,
   "id": "08a65a05",
   "metadata": {},
   "outputs": [
    {
     "name": "stdout",
     "output_type": "stream",
     "text": [
      "barcode 0.5813575396287766\n",
      "description 0.11123154044167458\n",
      "finalPrice 0.08318656008670912\n",
      "itemPrice 0.08318656008670912\n",
      "needsFetchReview 0.8898523235333966\n",
      "partnerItemId 0.05961251862891207\n",
      "preventTargetGapPoints 0.951497087115567\n",
      "quantityPurchased 0.08318656008670912\n",
      "userFlaggedBarcode 0.9543422300501287\n",
      "userFlaggedNewItem 0.9562389920065032\n",
      "userFlaggedPrice 0.9594905839317166\n",
      "userFlaggedQuantity 0.9594905839317166\n",
      "needsFetchReviewReason 0.9703292236824279\n",
      "pointsNotAwardedReason 0.9539357810594771\n",
      "pointsPayerId 0.82834304294811\n",
      "rewardsGroup 0.7654789323939846\n",
      "rewardsProductPartnerId 0.6925890800704512\n",
      "userFlaggedDescription 0.9722259856388024\n",
      "originalMetaBriteBarcode 0.9903807072212437\n",
      "originalMetaBriteDescription 0.998645170031161\n",
      "brandCode 0.6477442081018833\n",
      "competitorRewardsGroup 0.96274217585693\n",
      "discountedItemPrice 0.2183985909768324\n",
      "originalReceiptItemText 0.21961793794878742\n",
      "itemNumber 0.9792711014767647\n",
      "originalMetaBriteQuantityPurchased 0.9979677550467416\n",
      "pointsEarned 0.8744072618886329\n",
      "targetPrice 0.9487874271778892\n",
      "competitiveProduct 0.9126134670098902\n",
      "originalFinalPrice 0.998780653028045\n",
      "originalMetaBriteItemPrice 0.998780653028045\n",
      "deleted 0.998780653028045\n",
      "priceAfterCoupon 0.8704782549790001\n",
      "metabriteCampaignId 0.883078173689202\n"
     ]
    }
   ],
   "source": [
    "for a,b in df_ItemList_final.isnull().mean().items():\n",
    "    if b > 0:\n",
    "        print(a, b)\n"
   ]
  },
  {
   "cell_type": "code",
   "execution_count": 39,
   "id": "d4c5bb62",
   "metadata": {},
   "outputs": [
    {
     "name": "stdout",
     "output_type": "stream",
     "text": [
      "category 0.1328191945158526\n",
      "categoryCode 0.5569837189374465\n",
      "topBrand 0.5244215938303342\n",
      "brandCode 0.20051413881748073\n"
     ]
    }
   ],
   "source": [
    "for a,b in df_brands.isnull().mean().items():\n",
    "    if b > 0:\n",
    "        print(a, b)\n"
   ]
  },
  {
   "cell_type": "code",
   "execution_count": 43,
   "id": "e01b9ba2",
   "metadata": {},
   "outputs": [
    {
     "name": "stdout",
     "output_type": "stream",
     "text": [
      "# of Duplicated data in users dataset: 283\n",
      "# of Duplicated data in receipts dataset: 6262\n",
      "# of Duplicated data in itemlist dataset: 0\n",
      "# of Duplicated data in brands dataset: 0\n"
     ]
    }
   ],
   "source": [
    "#duplicated data \n",
    "\n",
    "num_dupli_users =df_users.duplicated().sum()\n",
    "num_dupli_receipts =df_receipts.duplicated().sum()\n",
    "num_dupli_itemlist =df_ItemList_final.duplicated().sum()\n",
    "num_dupli_brands =df_brands.duplicated().sum()\n",
    "print('# of Duplicated data in users dataset:',num_dupli_users)\n",
    "print('# of Duplicated data in receipts dataset:',num_dupli_receipts)\n",
    "print('# of Duplicated data in itemlist dataset:',num_dupli_itemlist)\n",
    "print('# of Duplicated data in brands dataset:',num_dupli_brands)"
   ]
  },
  {
   "cell_type": "code",
   "execution_count": null,
   "id": "eb32c355",
   "metadata": {},
   "outputs": [],
   "source": []
  },
  {
   "cell_type": "code",
   "execution_count": null,
   "id": "ec5ea3ef",
   "metadata": {},
   "outputs": [],
   "source": []
  },
  {
   "cell_type": "code",
   "execution_count": null,
   "id": "2fefd599",
   "metadata": {},
   "outputs": [],
   "source": []
  },
  {
   "cell_type": "code",
   "execution_count": null,
   "id": "1d37fbcb",
   "metadata": {},
   "outputs": [],
   "source": []
  }
 ],
 "metadata": {
  "kernelspec": {
   "display_name": "Python 3 (ipykernel)",
   "language": "python",
   "name": "python3"
  },
  "language_info": {
   "codemirror_mode": {
    "name": "ipython",
    "version": 3
   },
   "file_extension": ".py",
   "mimetype": "text/x-python",
   "name": "python",
   "nbconvert_exporter": "python",
   "pygments_lexer": "ipython3",
   "version": "3.8.12"
  }
 },
 "nbformat": 4,
 "nbformat_minor": 5
}
